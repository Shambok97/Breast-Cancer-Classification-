{
 "cells": [
  {
   "cell_type": "code",
   "execution_count": 1,
   "metadata": {},
   "outputs": [],
   "source": [
    "import numpy \n",
    "import pandas \n",
    "import random \n",
    "import time\n",
    "import matplotlib.pyplot as plt"
   ]
  },
  {
   "cell_type": "code",
   "execution_count": 2,
   "metadata": {},
   "outputs": [],
   "source": [
    "#First of all, we are splitting the data set into two parts, 25% for the test and 75% for the training data.\n",
    "\n",
    "def TrainTestSplit(dataFrame, testSize):\n",
    "    if isinstance(testSize, float):\n",
    "        testSize = round(testSize * len(dataFrame))\n",
    "    indices = dataFrame.index.tolist()\n",
    "    testIndices = random.sample(population = indices, k = testSize)\n",
    "    dataFrameTest = dataFrame.loc[testIndices]\n",
    "    dataFrameTrain = dataFrame.drop(testIndices)\n",
    "    return dataFrameTrain, dataFrameTest"
   ]
  },
  {
   "cell_type": "code",
   "execution_count": 3,
   "metadata": {},
   "outputs": [],
   "source": [
    "def CheckPurity(data):\n",
    "    if len(numpy.unique(data[:, -1])) == 1:\n",
    "        return True\n",
    "    else:\n",
    "        return False"
   ]
  },
  {
   "cell_type": "code",
   "execution_count": 4,
   "metadata": {},
   "outputs": [],
   "source": [
    "def ClassifyData(data):\n",
    "    uniqueClasses, uniqueClassesCounts = numpy.unique(data[:, -1], return_counts = True)\n",
    "    return uniqueClasses[uniqueClassesCounts.argmax()]"
   ]
  },
  {
   "cell_type": "code",
   "execution_count": 5,
   "metadata": {},
   "outputs": [],
   "source": [
    "#In this section, we are trying to find a way to split tumors into malignant and benign types. \n",
    "#In other words, some features are more important and they have a severe effect on tumor type.\n",
    "\n",
    "def GetPotentialSplits(data, randomAttributes):\n",
    "    potentialSplits = {}\n",
    "    _, columns = data.shape\n",
    "    columnsIndices = list(range(columns - 1))\n",
    "    if randomAttributes != None  and len(randomAttributes) <= len(columnsIndices):\n",
    "        columnsIndices = randomAttributes\n",
    "    for column in columnsIndices:\n",
    "        values = data[:, column]\n",
    "        uniqueValues = numpy.unique(values)\n",
    "        if len(uniqueValues) == 1:\n",
    "            potentialSplits[column] = uniqueValues\n",
    "        else:\n",
    "            potentialSplits[column] = []\n",
    "            for i in range(len(uniqueValues)):\n",
    "                if i != 0:\n",
    "                    currentValue = uniqueValues[i]\n",
    "                    previousValue = uniqueValues[i - 1]\n",
    "                    potentialSplits[column].append((currentValue + previousValue) / 2)\n",
    "    return potentialSplits"
   ]
  },
  {
   "cell_type": "code",
   "execution_count": 6,
   "metadata": {},
   "outputs": [],
   "source": [
    "def SplitData(data, splitColumn, splitValue):\n",
    "    splitColumnValues = data[:, splitColumn]\n",
    "    return data[splitColumnValues <= splitValue], data[splitColumnValues > splitValue]"
   ]
  },
  {
   "cell_type": "code",
   "execution_count": 7,
   "metadata": {},
   "outputs": [],
   "source": [
    "#In the next couple of sections, we are calculating Entropy and Overall Entropy. \n",
    "#These two are the basic parts of a decision tree algorithm.\n",
    "\n",
    "def CalculateEntropy(data):\n",
    "    _, uniqueClassesCounts = numpy.unique(data[:, -1], return_counts = True)\n",
    "    probabilities = uniqueClassesCounts / uniqueClassesCounts.sum()\n",
    "    return sum(probabilities * -numpy.log2(probabilities))"
   ]
  },
  {
   "cell_type": "code",
   "execution_count": 8,
   "metadata": {},
   "outputs": [],
   "source": [
    "def CalculateOverallEntropy(dataBelow, dataAbove):\n",
    "    pDataBelow = len(dataBelow) / (len(dataBelow) + len(dataAbove))\n",
    "    pDataAbove = len(dataAbove) / (len(dataBelow) + len(dataAbove))\n",
    "    return pDataBelow * CalculateEntropy(dataBelow) + pDataAbove * CalculateEntropy(dataAbove)"
   ]
  },
  {
   "cell_type": "code",
   "execution_count": 9,
   "metadata": {},
   "outputs": [],
   "source": [
    "#Now we are going to choose the best branches that help us the most to figure out if a tumor is M or B\n",
    "\n",
    "def DetermineBestSplit(data, potentialSplits, randomSplits = None):\n",
    "    overallEntropy = 9999\n",
    "    bestSplitColumn = 0\n",
    "    bestSplitValue = 0\n",
    "    if randomSplits == None:\n",
    "        for splitColumn in potentialSplits:\n",
    "            for splitValue in potentialSplits[splitColumn]:\n",
    "                dataBelow, dataAbove = SplitData(data, splitColumn, splitValue)\n",
    "                currentOverallEntropy = CalculateOverallEntropy(dataBelow, dataAbove)\n",
    "                if currentOverallEntropy <= overallEntropy:\n",
    "                    overallEntropy = currentOverallEntropy\n",
    "                    bestSplitColumn = splitColumn\n",
    "                    bestSplitValue = splitValue\n",
    "    else:\n",
    "        for i in range(randomSplits):\n",
    "            randomSplitColumn = random.choice(list(potentialSplits))\n",
    "            randomSplitValue = random.choice(potentialSplits[randomSplitColumn])\n",
    "            dataBelow, dataAbove = SplitData(data, randomSplitColumn, randomSplitValue)\n",
    "            currentOverallEntropy = CalculateOverallEntropy(dataBelow, dataAbove)\n",
    "            if currentOverallEntropy <= overallEntropy:\n",
    "                overallEntropy = currentOverallEntropy\n",
    "                bestSplitColumn = randomSplitColumn\n",
    "                bestSplitValue = randomSplitValue\n",
    "    return bestSplitColumn, bestSplitValue"
   ]
  },
  {
   "cell_type": "code",
   "execution_count": 10,
   "metadata": {},
   "outputs": [],
   "source": [
    "def BuildDecisionTree(dataFrame, currentDepth = 0, minSampleSize = 2, maxDepth = 1000, randomAttributes = None, randomSplits = None):\n",
    "    if currentDepth == 0:\n",
    "        global COLUMN_HEADERS\n",
    "        COLUMN_HEADERS = dataFrame.columns\n",
    "        data = dataFrame.values\n",
    "        if randomAttributes != None and randomAttributes <= len(COLUMN_HEADERS) - 1:\n",
    "            randomAttributes = random.sample(population = list(range(len(COLUMN_HEADERS) - 1)), k = randomAttributes)\n",
    "        else:\n",
    "            randomAttributes = None\n",
    "    else:\n",
    "        data = dataFrame\n",
    "    if CheckPurity(data) or len(data) < minSampleSize or currentDepth == maxDepth:\n",
    "        return ClassifyData(data)\n",
    "    else:\n",
    "        currentDepth += 1\n",
    "        potentialSplits = GetPotentialSplits(data, randomAttributes)\n",
    "        splitColumn, splitValue = DetermineBestSplit(data, potentialSplits, randomSplits)\n",
    "        dataBelow, dataAbove = SplitData(data, splitColumn, splitValue)\n",
    "        if len(dataBelow) == 0 or len(dataAbove) == 0:\n",
    "            return ClassifyData(data)\n",
    "        else:\n",
    "            question = str(COLUMN_HEADERS[splitColumn]) + \" <= \" + str(splitValue)\n",
    "            decisionSubTree = {question: []}\n",
    "            yesAnswer = BuildDecisionTree(dataBelow, currentDepth, minSampleSize, maxDepth, randomAttributes, randomSplits)\n",
    "            noAnswer = BuildDecisionTree(dataAbove, currentDepth, minSampleSize, maxDepth, randomAttributes, randomSplits)\n",
    "            if yesAnswer == noAnswer:\n",
    "                decisionSubTree = yesAnswer\n",
    "            else:\n",
    "                decisionSubTree[question].append(yesAnswer)\n",
    "                decisionSubTree[question].append(noAnswer)\n",
    "            return decisionSubTree"
   ]
  },
  {
   "cell_type": "code",
   "execution_count": 11,
   "metadata": {},
   "outputs": [],
   "source": [
    "def ClassifySample(sample, decisionTree):\n",
    "    if not isinstance(decisionTree, dict):\n",
    "        return decisionTree\n",
    "    question = list(decisionTree.keys())[0]\n",
    "    attribute, value = question.split(\" <= \")\n",
    "    if sample[attribute] <= float(value):\n",
    "        answer = decisionTree[question][0]\n",
    "    else:\n",
    "        answer = decisionTree[question][1]\n",
    "    return ClassifySample(sample, answer)"
   ]
  },
  {
   "cell_type": "code",
   "execution_count": 12,
   "metadata": {},
   "outputs": [],
   "source": [
    "def DecisionTreePredictions(dataFrame, decisionTree):\n",
    "    predictions = dataFrame.apply(ClassifySample, axis = 1, args = (decisionTree,))\n",
    "    return predictions"
   ]
  },
  {
   "cell_type": "code",
   "execution_count": 13,
   "metadata": {},
   "outputs": [],
   "source": [
    "def CalculateAccuracy(predictedResults, category):\n",
    "    resultCorrect = predictedResults == category\n",
    "    return resultCorrect.mean()"
   ]
  },
  {
   "cell_type": "code",
   "execution_count": 14,
   "metadata": {},
   "outputs": [
    {
     "name": "stdout",
     "output_type": "stream",
     "text": [
      "Decision Tree - Wisconsin Breast Cancer Dataset\n"
     ]
    }
   ],
   "source": [
    "dataFrame = pandas.read_csv(\"Data.csv\")\n",
    "dataFrame = dataFrame.drop(\"id\", axis = 1)\n",
    "dataFrame = dataFrame[dataFrame.columns.tolist()[1: ] + dataFrame.columns.tolist()[0: 1]]\n",
    "dataFrameTrain, dataFrameTest = TrainTestSplit(dataFrame, testSize = 0.25)\n",
    "\n",
    "print(\"Decision Tree - Wisconsin Breast Cancer Dataset\")"
   ]
  },
  {
   "cell_type": "code",
   "execution_count": 15,
   "metadata": {},
   "outputs": [],
   "source": [
    "depths = []\n",
    "accuracies = []"
   ]
  },
  {
   "cell_type": "code",
   "execution_count": 16,
   "metadata": {},
   "outputs": [
    {
     "name": "stdout",
     "output_type": "stream",
     "text": [
      "maxDepth = 1: accTest = 86.62%, accTrain = 92.97%, buildTime = 6.90s\n",
      "maxDepth = 2: accTest = 90.14%, accTrain = 94.15%, buildTime = 12.48s\n",
      "maxDepth = 3: accTest = 92.96%, accTrain = 98.13%, buildTime = 15.22s\n",
      "maxDepth = 4: accTest = 92.96%, accTrain = 99.30%, buildTime = 18.69s\n",
      "maxDepth = 5: accTest = 92.25%, accTrain = 99.53%, buildTime = 17.84s\n",
      "maxDepth = 6: accTest = 92.96%, accTrain = 100.00%, buildTime = 18.75s\n"
     ]
    }
   ],
   "source": [
    "i = 1\n",
    "accuracyTrain = 0\n",
    "while accuracyTrain < 100:\n",
    "    startTime = time.time()\n",
    "    decisionTree = BuildDecisionTree(dataFrameTrain, maxDepth = i)\n",
    "    buildingTime = time.time() - startTime\n",
    "    decisionTreeTestResults = DecisionTreePredictions(dataFrameTest, decisionTree)\n",
    "    accuracyTest = CalculateAccuracy(decisionTreeTestResults, dataFrameTest.iloc[:, -1]) * 100\n",
    "    decisionTreeTrainResults = DecisionTreePredictions(dataFrameTrain, decisionTree)\n",
    "    accuracyTrain = CalculateAccuracy(decisionTreeTrainResults, dataFrameTrain.iloc[:, -1]) * 100\n",
    "    print(\"maxDepth = {}: \".format(i), end = \"\")\n",
    "    depths.append(i)\n",
    "    print(\"accTest = {0:.2f}%, \".format(accuracyTest), end = \"\")\n",
    "    accuracies.append(accuracyTest)\n",
    "    print(\"accTrain = {0:.2f}%, \".format(accuracyTrain), end = \"\")\n",
    "    print(\"buildTime = {0:.2f}s\".format(buildingTime), end = \"\\n\")\n",
    "    i += 1"
   ]
  },
  {
   "cell_type": "code",
   "execution_count": 17,
   "metadata": {},
   "outputs": [
    {
     "data": {
      "image/png": "[encoded data removed]",
      "text/plain": [
       "<Figure size 720x432 with 1 Axes>"
      ]
     },
     "metadata": {
      "needs_background": "light"
     },
     "output_type": "display_data"
    }
   ],
   "source": [
    "plt.figure(figsize=(10, 6))\n",
    "plt.plot(depths, accuracies)\n",
    "plt.xlabel('Max Depth --->')\n",
    "plt.ylabel('Test Accuracy  --->')\n",
    "plt.show()"
   ]
  },
  {
   "cell_type": "code",
   "execution_count": 19,
   "metadata": {},
   "outputs": [
    {
     "name": "stdout",
     "output_type": "stream",
     "text": [
      "As observed, max accuracy occurs when depth is either 3, 4 or 6\n"
     ]
    }
   ],
   "source": [
    "print(\"As observed, max accuracy occurs when depth is either 3, 4 or 6\")"
   ]
  },
  {
   "cell_type": "code",
   "execution_count": 18,
   "metadata": {},
   "outputs": [],
   "source": [
    "#The decision tree iterates itself till it reaches 100% accuracy on the training data.\n",
    "#The highest accuracy on the test data happens when the accuracy on the training data is 100%\n",
    "#It predicts if the tumor is B or M type based on the things that the algorithm has learned in the training section\n",
    "#Prediction function is applied to both training and test data"
   ]
  }
 ],
 "metadata": {
  "kernelspec": {
   "display_name": "Python 3",
   "language": "python",
   "name": "python3"
  },
  "language_info": {
   "codemirror_mode": {
    "name": "ipython",
    "version": 3
   },
   "file_extension": ".py",
   "mimetype": "text/x-python",
   "name": "python",
   "nbconvert_exporter": "python",
   "pygments_lexer": "ipython3",
   "version": "3.8.5"
  }
 },
 "nbformat": 4,
 "nbformat_minor": 4
}
